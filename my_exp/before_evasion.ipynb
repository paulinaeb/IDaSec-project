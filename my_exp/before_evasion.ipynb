{
  "cells": [
    {
      "cell_type": "markdown",
      "metadata": {
        "id": "view-in-github",
        "colab_type": "text"
      },
      "source": [
        "<a href=\"https://colab.research.google.com/github/paulinaeb/IDaSec-project/blob/exp3/my_exp/before_evasion.ipynb\" target=\"_parent\"><img src=\"https://colab.research.google.com/assets/colab-badge.svg\" alt=\"Open In Colab\"/></a>"
      ]
    },
    {
      "cell_type": "code",
      "execution_count": 3,
      "id": "85fc5427",
      "metadata": {
        "id": "85fc5427",
        "outputId": "894c7703-5352-4046-c1c5-29b8edba5bc1",
        "colab": {
          "base_uri": "https://localhost:8080/"
        }
      },
      "outputs": [
        {
          "output_type": "stream",
          "name": "stdout",
          "text": [
            "Cloning into 'IDaSec-project'...\n",
            "remote: Enumerating objects: 78, done.\u001b[K\n",
            "remote: Counting objects: 100% (78/78), done.\u001b[K\n",
            "remote: Compressing objects: 100% (58/58), done.\u001b[K\n",
            "remote: Total 78 (delta 21), reused 62 (delta 14), pack-reused 0 (from 0)\u001b[K\n",
            "Receiving objects: 100% (78/78), 10.03 MiB | 20.30 MiB/s, done.\n",
            "Resolving deltas: 100% (21/21), done.\n"
          ]
        }
      ],
      "source": [
        "!git clone --branch main https://github.com/paulinaeb/IDaSec-project.git"
      ]
    },
    {
      "cell_type": "markdown",
      "source": [
        "Libraries"
      ],
      "metadata": {
        "id": "bi5Lwz98UMbc"
      },
      "id": "bi5Lwz98UMbc"
    },
    {
      "cell_type": "code",
      "source": [
        "import os\n",
        "import pandas as pd"
      ],
      "metadata": {
        "id": "aGP94eX_UT3p"
      },
      "id": "aGP94eX_UT3p",
      "execution_count": null,
      "outputs": []
    },
    {
      "cell_type": "code",
      "source": [
        "# Path to the dataset folder\n",
        "dataset_path = \"IDaSec-project/dataset\"\n",
        "\n",
        "# List all subfolders in dataset\n",
        "subfolders = [f.name for f in os.scandir(dataset_path) if f.is_dir()]\n",
        "print(\"available datasets:\", subfolders)\n"
      ],
      "metadata": {
        "id": "rPT_30nZj996",
        "outputId": "65950136-4630-44d1-c88a-38c08d65054c",
        "colab": {
          "base_uri": "https://localhost:8080/"
        }
      },
      "id": "rPT_30nZj996",
      "execution_count": 4,
      "outputs": [
        {
          "output_type": "stream",
          "name": "stdout",
          "text": [
            "available datasets: ['enron2', 'enron1', 'sms']\n"
          ]
        }
      ]
    },
    {
      "cell_type": "code",
      "source": [
        "enron1_path = dataset_path + \"/enron1\"\n",
        "enron2_path = dataset_path + \"/enron2\"\n",
        "sms_path = dataset_path + \"/sms\""
      ],
      "metadata": {
        "id": "6cZpUaQ9TQE6"
      },
      "id": "6cZpUaQ9TQE6",
      "execution_count": 6,
      "outputs": []
    },
    {
      "cell_type": "code",
      "source": [
        "enron1_files = os.listdir(enron1_path)\n",
        "print(f\"\\nFiles in '{enron1_path}': {enron1_files}\")\n",
        "\n",
        "enron2_files = os.listdir(enron2_path)\n",
        "print(f\"\\nFiles in '{enron2_path}': {enron2_files}\")\n",
        "\n",
        "sms_files = os.listdir(sms_path)\n",
        "print(f\"\\nFiles in '{sms_path}': {sms_files}\")"
      ],
      "metadata": {
        "id": "zZQq6gmkkJQm",
        "outputId": "f95e77a3-6f35-48dc-bcbc-d3b05572893a",
        "colab": {
          "base_uri": "https://localhost:8080/"
        }
      },
      "id": "zZQq6gmkkJQm",
      "execution_count": 8,
      "outputs": [
        {
          "output_type": "stream",
          "name": "stdout",
          "text": [
            "\n",
            "Files in 'IDaSec-project/dataset/enron1': ['enron1_train.csv', 'enron1_val.csv', 'enron1_test.csv']\n",
            "\n",
            "Files in 'IDaSec-project/dataset/enron2': ['enron2_test.csv', 'enron2_train.csv', 'enron2_val.csv']\n",
            "\n",
            "Files in 'IDaSec-project/dataset/sms': ['train.csv', 'val.csv', 'test.csv']\n"
          ]
        }
      ]
    },
    {
      "cell_type": "markdown",
      "source": [
        "Enron1"
      ],
      "metadata": {
        "id": "VyC1-3N4UdB8"
      },
      "id": "VyC1-3N4UdB8"
    },
    {
      "cell_type": "code",
      "source": [
        "enron1_train = pd.read_csv(enron1_path + \"/train.csv\")\n",
        "enron1_test = pd.read_csv(enron1_path + \"/test.csv\")"
      ],
      "metadata": {
        "id": "QlEhRtT4UWnq"
      },
      "id": "QlEhRtT4UWnq",
      "execution_count": null,
      "outputs": []
    }
  ],
  "metadata": {
    "language_info": {
      "name": "python"
    },
    "colab": {
      "provenance": [],
      "include_colab_link": true
    },
    "kernelspec": {
      "name": "python3",
      "display_name": "Python 3"
    }
  },
  "nbformat": 4,
  "nbformat_minor": 5
}