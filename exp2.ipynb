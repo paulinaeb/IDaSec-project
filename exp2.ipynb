{
  "nbformat": 4,
  "nbformat_minor": 0,
  "metadata": {
    "colab": {
      "provenance": []
    },
    "kernelspec": {
      "name": "python3",
      "display_name": "Python 3"
    },
    "language_info": {
      "name": "python"
    }
  },
  "cells": [
    {
      "cell_type": "code",
      "execution_count": 1,
      "metadata": {
        "colab": {
          "base_uri": "https://localhost:8080/"
        },
        "id": "VzX3xbsOtrDT",
        "outputId": "f700ad5a-7662-4951-aaa7-1fbefd49fced"
      },
      "outputs": [
        {
          "output_type": "stream",
          "name": "stdout",
          "text": [
            "Cloning into 'IDaSec-project'...\n",
            "remote: Enumerating objects: 82, done.\u001b[K\n",
            "remote: Counting objects: 100% (82/82), done.\u001b[K\n",
            "remote: Compressing objects: 100% (60/60), done.\u001b[K\n",
            "remote: Total 82 (delta 21), reused 62 (delta 14), pack-reused 0 (from 0)\u001b[K\n",
            "Receiving objects: 100% (82/82), 10.03 MiB | 9.72 MiB/s, done.\n",
            "Resolving deltas: 100% (21/21), done.\n"
          ]
        }
      ],
      "source": [
        "!git clone --branch main https://github.com/paulinaeb/IDaSec-project.git"
      ]
    },
    {
      "cell_type": "code",
      "source": [
        "!ls -R\n"
      ],
      "metadata": {
        "colab": {
          "base_uri": "https://localhost:8080/"
        },
        "id": "jpg3ajAR3Yer",
        "outputId": "1fb686df-a348-4fb7-b870-bb6b0e53b3cd"
      },
      "execution_count": 6,
      "outputs": [
        {
          "output_type": "stream",
          "name": "stdout",
          "text": [
            ".:\n",
            "IDaSec-project\tsample_data\n",
            "\n",
            "./IDaSec-project:\n",
            "dataset  README.md\n",
            "\n",
            "./IDaSec-project/dataset:\n",
            "data_security_datasets.ipynb  enron1  enron2  sms\n",
            "\n",
            "./IDaSec-project/dataset/enron1:\n",
            "enron1_test.csv  enron1_train.csv  enron1_val.csv\n",
            "\n",
            "./IDaSec-project/dataset/enron2:\n",
            "enron2_test.csv  enron2_train.csv  enron2_val.csv\n",
            "\n",
            "./IDaSec-project/dataset/sms:\n",
            "test.csv  train.csv  val.csv\n",
            "\n",
            "./sample_data:\n",
            "anscombe.json\t\t     california_housing_train.csv  mnist_train_small.csv\n",
            "california_housing_test.csv  mnist_test.csv\t\t   README.md\n"
          ]
        }
      ]
    },
    {
      "cell_type": "code",
      "source": [
        "import pandas as pd\n",
        "\n",
        "# Load Enron1 datasets\n",
        "enron1_train = pd.read_csv('./IDaSec-project/dataset/enron1/enron1_train.csv')\n",
        "enron1_val = pd.read_csv('./IDaSec-project/dataset/enron1/enron1_val.csv')\n",
        "enron1_test = pd.read_csv('./IDaSec-project/dataset/enron1/enron1_test.csv')\n",
        "\n",
        "# Preview the datasets\n",
        "print(\"Enron1 Train Dataset:\")\n",
        "print(enron1_train.head())\n",
        "\n",
        "# Load Enron2 datasets\n",
        "enron2_train = pd.read_csv('./IDaSec-project/dataset/enron2/enron2_train.csv')\n",
        "enron2_val = pd.read_csv('./IDaSec-project/dataset/enron2/enron2_val.csv')\n",
        "enron2_test = pd.read_csv('./IDaSec-project/dataset/enron2/enron2_test.csv')\n",
        "\n",
        "# Preview the datasets\n",
        "print(\"Enron2 Train Dataset:\")\n",
        "print(enron2_train.head())\n",
        "\n",
        "# Load SMS datasets\n",
        "sms_train = pd.read_csv('./IDaSec-project/dataset/sms/train.csv')\n",
        "sms_val = pd.read_csv('./IDaSec-project/dataset/sms/val.csv')\n",
        "sms_test = pd.read_csv('./IDaSec-project/dataset/sms/test.csv')\n",
        "\n",
        "# Preview the datasets\n",
        "print(\"SMS Train Dataset:\")\n",
        "print(sms_train.head())\n",
        "\n"
      ],
      "metadata": {
        "colab": {
          "base_uri": "https://localhost:8080/"
        },
        "id": "hhGpzcaK3r_H",
        "outputId": "5b4be93a-4a2d-4188-c066-4065238b083d"
      },
      "execution_count": 8,
      "outputs": [
        {
          "output_type": "stream",
          "name": "stdout",
          "text": [
            "Enron1 Train Dataset:\n",
            "                                               email target\n",
            "0  Subject: prom dress shopping hi , just wanted ...    ham\n",
            "1  Subject: hi agaain hello , welcome to pharm la...   spam\n",
            "2  Subject: feedback monitor error - meter 984132...    ham\n",
            "3  Subject: instructions to remove spyware / adwa...   spam\n",
            "4  Subject: acrobat pro 7 . 0 $ 69 . 95 xp pro op...   spam\n",
            "Enron2 Train Dataset:\n",
            "                                               email target\n",
            "0  Subject: membership in the nsf vince : karen m...    ham\n",
            "1  Subject: holiday gift thank you so much for yo...    ham\n",
            "2  Subject: re : real options vince , if you take...    ham\n",
            "3  Subject: men charset = windows - 1252 \" > vigo...   spam\n",
            "4  Subject: vaal medz how t pestilent o save on y...   spam\n",
            "SMS Train Dataset:\n",
            "                                               email target\n",
            "0  What to think no one saying clearly. Ok leave ...    ham\n",
            "1  FREE RING TONE just text \\POLYS\\\" to 87131. Th...   spam\n",
            "2          Trust me. Even if isn't there, its there.    ham\n",
            "3  Hi dear we saw dear. We both are happy. Where ...    ham\n",
            "4  URGENT, IMPORTANT INFORMATION FOR O2 USER. TOD...   spam\n"
          ]
        }
      ]
    },
    {
      "cell_type": "code",
      "source": [
        "\n",
        "\n",
        "print(f\"Enron1 Train shape: {enron1_train.shape}\")\n",
        "print(f\"Enron2 Train shape: {enron2_train.shape}\")\n",
        "print(f\"SMS Train shape: {sms_train.shape}\")\n"
      ],
      "metadata": {
        "colab": {
          "base_uri": "https://localhost:8080/"
        },
        "id": "TjuQixvj74YP",
        "outputId": "11c02cc0-a3f2-4c6b-c34e-c52d4e4d22c2"
      },
      "execution_count": 9,
      "outputs": [
        {
          "output_type": "stream",
          "name": "stdout",
          "text": [
            "Enron1 Train shape: (3196, 2)\n",
            "Enron2 Train shape: (3727, 2)\n",
            "SMS Train shape: (3565, 2)\n"
          ]
        }
      ]
    },
    {
      "cell_type": "code",
      "source": [
        "!apt-get install git\n"
      ],
      "metadata": {
        "colab": {
          "base_uri": "https://localhost:8080/"
        },
        "id": "XNSZ0OYICFjS",
        "outputId": "ca5568a5-1031-4821-d77b-4f7c058b778c"
      },
      "execution_count": 11,
      "outputs": [
        {
          "output_type": "stream",
          "name": "stdout",
          "text": [
            "Reading package lists... Done\n",
            "Building dependency tree... Done\n",
            "Reading state information... Done\n",
            "git is already the newest version (1:2.34.1-1ubuntu1.12).\n",
            "0 upgraded, 0 newly installed, 0 to remove and 30 not upgraded.\n"
          ]
        }
      ]
    },
    {
      "cell_type": "code",
      "source": [
        "!git config --global user.name \"Your Name\"\n",
        "!git config --global user.email \"youremail@example.com\"\n"
      ],
      "metadata": {
        "id": "38b9ZFkuCk4q"
      },
      "execution_count": null,
      "outputs": []
    }
  ]
}